{
 "cells": [
  {
   "cell_type": "markdown",
   "metadata": {},
   "source": [
    "## Requests Get"
   ]
  },
  {
   "cell_type": "code",
   "execution_count": 4,
   "metadata": {},
   "outputs": [
    {
     "name": "stdout",
     "output_type": "stream",
     "text": [
      "http://www.baidu.com/s?wd=%E8%8E%AB%E7%83%A6Python\n"
     ]
    }
   ],
   "source": [
    "import requests\n",
    "import webbrowser\n",
    "\n",
    "param = {'wd' : '莫烦Python'}\n",
    "r = requests.get('http://www.baidu.com/s', params = param)\n",
    "print(r.url)"
   ]
  },
  {
   "cell_type": "markdown",
   "metadata": {},
   "source": [
    "## Request Post"
   ]
  },
  {
   "cell_type": "code",
   "execution_count": 5,
   "metadata": {},
   "outputs": [
    {
     "name": "stdout",
     "output_type": "stream",
     "text": [
      "Hello there, Wenlong Jiang!\n"
     ]
    }
   ],
   "source": [
    "data = {'firstname' : 'Wenlong', 'lastname' : 'Jiang'}\n",
    "r = requests.post('http://pythonscraping.com/files/processing.php', data = data)\n",
    "print(r.text)"
   ]
  },
  {
   "cell_type": "markdown",
   "metadata": {},
   "source": [
    "### Upload File"
   ]
  },
  {
   "cell_type": "code",
   "execution_count": 9,
   "metadata": {},
   "outputs": [
    {
     "name": "stdout",
     "output_type": "stream",
     "text": [
      "The file image.jpg has been uploaded.\n"
     ]
    }
   ],
   "source": [
    "file = {'uploadFile' : open('image.jpg', 'rb')}\n",
    "r = requests.post('http://pythonscraping.com/files/processing2.php', files = file)\n",
    "print(r.text)"
   ]
  },
  {
   "cell_type": "markdown",
   "metadata": {},
   "source": [
    "### Login with Cookie"
   ]
  },
  {
   "cell_type": "code",
   "execution_count": 14,
   "metadata": {},
   "outputs": [
    {
     "name": "stdout",
     "output_type": "stream",
     "text": [
      "{'loggedin': '1', 'username': 'Wenlong'}\n",
      "Hey Wenlong! Looks like you're still logged into the site!\n"
     ]
    }
   ],
   "source": [
    "payload = {'username' : 'Wenlong', 'password' : 'password'}\n",
    "r = requests.post('http://pythonscraping.com/pages/cookies/welcome.php', data = payload)\n",
    "print(r.cookies.get_dict())\n",
    "r = requests.get('http://pythonscraping.com/pages/cookies/profile.php', cookies = r.cookies)\n",
    "print(r.text)"
   ]
  },
  {
   "cell_type": "markdown",
   "metadata": {},
   "source": [
    "### Login with Session"
   ]
  },
  {
   "cell_type": "code",
   "execution_count": 15,
   "metadata": {},
   "outputs": [
    {
     "name": "stdout",
     "output_type": "stream",
     "text": [
      "{'loggedin': '1', 'username': 'Wenlong'}\n",
      "Hey Wenlong! Looks like you're still logged into the site!\n"
     ]
    }
   ],
   "source": [
    "session = requests.Session()\n",
    "payload = {'username' : 'Wenlong', 'password' : 'password'}\n",
    "r = session.post('http://pythonscraping.com/pages/cookies/welcome.php', data = payload)\n",
    "print(r.cookies.get_dict())\n",
    "r = session.get('http://pythonscraping.com/pages/cookies/profile.php')\n",
    "print(r.text)"
   ]
  },
  {
   "cell_type": "code",
   "execution_count": null,
   "metadata": {},
   "outputs": [],
   "source": []
  }
 ],
 "metadata": {
  "kernelspec": {
   "display_name": "Python 3",
   "language": "python",
   "name": "python3"
  },
  "language_info": {
   "codemirror_mode": {
    "name": "ipython",
    "version": 3
   },
   "file_extension": ".py",
   "mimetype": "text/x-python",
   "name": "python",
   "nbconvert_exporter": "python",
   "pygments_lexer": "ipython3",
   "version": "3.6.4"
  }
 },
 "nbformat": 4,
 "nbformat_minor": 2
}
