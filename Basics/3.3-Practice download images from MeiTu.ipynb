{
 "cells": [
  {
   "cell_type": "code",
   "execution_count": 15,
   "metadata": {},
   "outputs": [],
   "source": [
    "from bs4 import BeautifulSoup\n",
    "import requests\n",
    "\n",
    "base_url = 'https://www.natgeo.com.cn'\n",
    "\n",
    "r = requests.get(base_url + '/default.aspx')\n",
    "html = r.content;"
   ]
  },
  {
   "cell_type": "code",
   "execution_count": 20,
   "metadata": {},
   "outputs": [
    {
     "name": "stdout",
     "output_type": "stream",
     "text": [
      "download 3376.jpg\n",
      "download 2851.jpg\n",
      "download 3377.jpg\n",
      "download 3395.jpg\n",
      "download 2398.jpg\n",
      "download 3396.jpg\n",
      "download 170831.jpg\n",
      "download 170826.jpg\n",
      "download 170825.jpg\n"
     ]
    }
   ],
   "source": [
    "soup = BeautifulSoup(html, features = 'lxml')\n",
    "\n",
    "img_links = soup.find_all('img', {'class' : 'image'})\n",
    "for link in img_links:\n",
    "    r = requests.get(base_url + link['src'], stream = True)\n",
    "    image_name = link['src'].split('/')[-1]\n",
    "    with open('images/%s' % image_name, 'wb') as f:\n",
    "        for chunk in r.iter_content(chunk_size = 128):\n",
    "            f.write(chunk)\n",
    "    print('download %s' % image_name)"
   ]
  },
  {
   "cell_type": "code",
   "execution_count": null,
   "metadata": {},
   "outputs": [],
   "source": []
  }
 ],
 "metadata": {
  "kernelspec": {
   "display_name": "Python 3",
   "language": "python",
   "name": "python3"
  },
  "language_info": {
   "codemirror_mode": {
    "name": "ipython",
    "version": 3
   },
   "file_extension": ".py",
   "mimetype": "text/x-python",
   "name": "python",
   "nbconvert_exporter": "python",
   "pygments_lexer": "ipython3",
   "version": "3.6.4"
  }
 },
 "nbformat": 4,
 "nbformat_minor": 2
}
