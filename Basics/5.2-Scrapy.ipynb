{
 "cells": [
  {
   "cell_type": "code",
   "execution_count": 2,
   "metadata": {},
   "outputs": [],
   "source": [
    "import scrapy\n",
    "\n",
    "class mofanSpider(scrapy.Spider):\n",
    "    name = 'mofan'\n",
    "    start_url = ['https://morvanzhou.github.io/',]\n",
    "    \n",
    "    def parse(self, response):\n",
    "        yield {\n",
    "            'title' : response.css('h1::text').extract_first(default = 'Missing').strip().replace('\"', \"\"),\n",
    "            'url' : response.url,\n",
    "        }\n",
    "        \n",
    "        urls = response.css('a::attr(href)').re(r'^/.+?$') # find all sub urls\n",
    "        for url in urls:\n",
    "            yield response.follow(url, allback=self.parse) # it will filter out duplicate urls automatically"
   ]
  },
  {
   "cell_type": "code",
   "execution_count": null,
   "metadata": {},
   "outputs": [],
   "source": [
    "scrapy runs"
   ]
  }
 ],
 "metadata": {
  "kernelspec": {
   "display_name": "Python 3",
   "language": "python",
   "name": "python3"
  },
  "language_info": {
   "codemirror_mode": {
    "name": "ipython",
    "version": 3
   },
   "file_extension": ".py",
   "mimetype": "text/x-python",
   "name": "python",
   "nbconvert_exporter": "python",
   "pygments_lexer": "ipython3",
   "version": "3.6.4"
  }
 },
 "nbformat": 4,
 "nbformat_minor": 2
}
