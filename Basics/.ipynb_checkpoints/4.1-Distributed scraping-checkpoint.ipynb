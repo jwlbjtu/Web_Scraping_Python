{
 "cells": [
  {
   "cell_type": "code",
   "execution_count": 5,
   "metadata": {},
   "outputs": [],
   "source": [
    "import multiprocessing as mp\n",
    "import time\n",
    "from urllib.request import urlopen, urljoin\n",
    "from bs4 import BeautifulSoup\n",
    "import re\n",
    "\n",
    "base_url = 'https://morvanzhou.github.io'"
   ]
  },
  {
   "cell_type": "code",
   "execution_count": 6,
   "metadata": {},
   "outputs": [],
   "source": [
    "def crawl(url):\n",
    "    response = urlopen(url)\n",
    "    return response.read().decode('utf-8')\n",
    "\n",
    "def parse(html):\n",
    "    soup = BeautifulSoup(html, features = 'lxml')\n",
    "    urls = soup.find_all('a', {'href' : re.compile('^/.+?/$')})\n",
    "    title = soup.find('h1').get_text().strip()\n",
    "    page_urls = set([urljoin(base_url, url['href']) for url in urls])\n",
    "    url = soup.find('meta', {'property' : 'og:url'})['content']\n",
    "    return title, page_urls, url"
   ]
  },
  {
   "cell_type": "code",
   "execution_count": 13,
   "metadata": {},
   "outputs": [],
   "source": [
    "unseen = set([base_url])\n",
    "seen = set()"
   ]
  },
  {
   "cell_type": "markdown",
   "metadata": {},
   "source": [
    "### Normal Crawling"
   ]
  },
  {
   "cell_type": "code",
   "execution_count": 12,
   "metadata": {},
   "outputs": [
    {
     "name": "stdout",
     "output_type": "stream",
     "text": [
      "Crawling...\n",
      "Parsing\n",
      "1 教程 https://morvanzhou.github.io/\n",
      "Crawling...\n",
      "Parsing\n",
      "1 高级爬虫: 高效无忧的 Scrapy 爬虫库 https://morvanzhou.github.io/tutorials/data-manipulation/scraping/5-02-scrapy/\n",
      "2 其他教学系列 https://morvanzhou.github.io/tutorials/others/\n",
      "3 数据处理教程系列 https://morvanzhou.github.io/tutorials/data-manipulation/\n",
      "4 进化算法 Evolutionary Strategies 教程系列 https://morvanzhou.github.io/tutorials/machine-learning/evolutionary-algorithm/\n",
      "5 Git 版本管理 教程系列 https://morvanzhou.github.io/tutorials/others/git/\n",
      "6 说吧~ https://morvanzhou.github.io/discuss/\n",
      "7 Threading 多线程教程系列 https://morvanzhou.github.io/tutorials/python-basic/threading/\n",
      "8 Linux 简易教学 https://morvanzhou.github.io/tutorials/others/linux-basic/\n",
      "9 推荐学习顺序 https://morvanzhou.github.io/learning-steps/\n",
      "10 multiprocessing 多进程教程系列 https://morvanzhou.github.io/tutorials/python-basic/multiprocessing/\n",
      "11 Why? https://morvanzhou.github.io/tutorials/data-manipulation/scraping/1-00-why/\n",
      "12 机器学习实践 https://morvanzhou.github.io/tutorials/machine-learning/ML-practice/\n",
      "13 Theano 教程系列 https://morvanzhou.github.io/tutorials/machine-learning/theano/\n",
      "14 Sklearn 通用机器学习 教程系列 https://morvanzhou.github.io/tutorials/machine-learning/sklearn/\n",
      "15 强化学习 Reinforcement Learning 教程系列 https://morvanzhou.github.io/tutorials/machine-learning/reinforcement-learning/\n",
      "16 Python基础 教程系列 https://morvanzhou.github.io/tutorials/python-basic/\n",
      "17 基础教程系列 https://morvanzhou.github.io/tutorials/python-basic/basic/\n",
      "18 关于莫烦 https://morvanzhou.github.io/about/\n",
      "19 机器学习系列 https://morvanzhou.github.io/tutorials/machine-learning/\n",
      "20 网页爬虫教程系列 https://morvanzhou.github.io/tutorials/data-manipulation/scraping/\n",
      "21 Pytorch 教程系列 https://morvanzhou.github.io/tutorials/machine-learning/torch/\n",
      "22 高级爬虫: 让 Selenium 控制你的浏览器帮你爬 https://morvanzhou.github.io/tutorials/data-manipulation/scraping/5-01-selenium/\n",
      "23 迁移学习 Transfer Learning https://morvanzhou.github.io/tutorials/machine-learning/ML-intro/2-9-transfer-learning/\n",
      "24 Tkinter GUI 教程系列 https://morvanzhou.github.io/tutorials/python-basic/tkinter/\n",
      "25 为了更优秀 https://morvanzhou.github.io/support/\n",
      "26 Numpy & Pandas 教程系列 https://morvanzhou.github.io/tutorials/data-manipulation/np-pd/\n",
      "27 Matplotlib 画图教程系列 https://morvanzhou.github.io/tutorials/data-manipulation/plt/\n",
      "28 Tensorflow 教程系列 https://morvanzhou.github.io/tutorials/machine-learning/tensorflow/\n",
      "29 Keras 教程系列 https://morvanzhou.github.io/tutorials/machine-learning/keras/\n",
      "30 有趣的机器学习系列 https://morvanzhou.github.io/tutorials/machine-learning/ML-intro/\n",
      "31 迁移学习 Transfer Learning https://morvanzhou.github.io/tutorials/machine-learning/tensorflow/5-16-transfer-learning/\n",
      "32 近期更新 https://morvanzhou.github.io/recent-posts/\n"
     ]
    }
   ],
   "source": [
    "while len(unseen) != 0:\n",
    "    if len(seen) >= 20:\n",
    "        break\n",
    "    \n",
    "    print('Crawling...')\n",
    "    htmls = [crawl(url) for url in unseen]\n",
    "    \n",
    "    print('Parsing')\n",
    "    results = [parse(html) for html in htmls]\n",
    "    \n",
    "    seen.update(unseen)\n",
    "    unseen.clear()\n",
    "    \n",
    "    count = 1;\n",
    "    for title, page_urls, url in results:\n",
    "        print(count, title, url)\n",
    "        count += 1\n",
    "        unseen.update(page_urls - seen)\n",
    "    \n",
    "    "
   ]
  },
  {
   "cell_type": "markdown",
   "metadata": {},
   "source": [
    "### Distributed Crawling"
   ]
  },
  {
   "cell_type": "code",
   "execution_count": 15,
   "metadata": {},
   "outputs": [
    {
     "name": "stdout",
     "output_type": "stream",
     "text": [
      "Crawling...\n",
      "Parsing...\n",
      "1 教程 https://morvanzhou.github.io/\n",
      "Crawling...\n",
      "Parsing...\n",
      "1 高级爬虫: 高效无忧的 Scrapy 爬虫库 https://morvanzhou.github.io/tutorials/data-manipulation/scraping/5-02-scrapy/\n",
      "2 其他教学系列 https://morvanzhou.github.io/tutorials/others/\n",
      "3 数据处理教程系列 https://morvanzhou.github.io/tutorials/data-manipulation/\n",
      "4 进化算法 Evolutionary Strategies 教程系列 https://morvanzhou.github.io/tutorials/machine-learning/evolutionary-algorithm/\n",
      "5 Git 版本管理 教程系列 https://morvanzhou.github.io/tutorials/others/git/\n",
      "6 说吧~ https://morvanzhou.github.io/discuss/\n",
      "7 Linux 简易教学 https://morvanzhou.github.io/tutorials/others/linux-basic/\n",
      "8 Threading 多线程教程系列 https://morvanzhou.github.io/tutorials/python-basic/threading/\n",
      "9 推荐学习顺序 https://morvanzhou.github.io/learning-steps/\n",
      "10 multiprocessing 多进程教程系列 https://morvanzhou.github.io/tutorials/python-basic/multiprocessing/\n",
      "11 Why? https://morvanzhou.github.io/tutorials/data-manipulation/scraping/1-00-why/\n",
      "12 机器学习实践 https://morvanzhou.github.io/tutorials/machine-learning/ML-practice/\n",
      "13 Theano 教程系列 https://morvanzhou.github.io/tutorials/machine-learning/theano/\n",
      "14 Sklearn 通用机器学习 教程系列 https://morvanzhou.github.io/tutorials/machine-learning/sklearn/\n",
      "15 强化学习 Reinforcement Learning 教程系列 https://morvanzhou.github.io/tutorials/machine-learning/reinforcement-learning/\n",
      "16 Python基础 教程系列 https://morvanzhou.github.io/tutorials/python-basic/\n",
      "17 基础教程系列 https://morvanzhou.github.io/tutorials/python-basic/basic/\n",
      "18 关于莫烦 https://morvanzhou.github.io/about/\n",
      "19 机器学习系列 https://morvanzhou.github.io/tutorials/machine-learning/\n",
      "20 网页爬虫教程系列 https://morvanzhou.github.io/tutorials/data-manipulation/scraping/\n",
      "21 Pytorch 教程系列 https://morvanzhou.github.io/tutorials/machine-learning/torch/\n",
      "22 高级爬虫: 让 Selenium 控制你的浏览器帮你爬 https://morvanzhou.github.io/tutorials/data-manipulation/scraping/5-01-selenium/\n",
      "23 迁移学习 Transfer Learning https://morvanzhou.github.io/tutorials/machine-learning/ML-intro/2-9-transfer-learning/\n",
      "24 Tkinter GUI 教程系列 https://morvanzhou.github.io/tutorials/python-basic/tkinter/\n",
      "25 为了更优秀 https://morvanzhou.github.io/support/\n",
      "26 Numpy & Pandas 教程系列 https://morvanzhou.github.io/tutorials/data-manipulation/np-pd/\n",
      "27 Matplotlib 画图教程系列 https://morvanzhou.github.io/tutorials/data-manipulation/plt/\n",
      "28 Tensorflow 教程系列 https://morvanzhou.github.io/tutorials/machine-learning/tensorflow/\n",
      "29 Keras 教程系列 https://morvanzhou.github.io/tutorials/machine-learning/keras/\n",
      "30 有趣的机器学习系列 https://morvanzhou.github.io/tutorials/machine-learning/ML-intro/\n",
      "31 迁移学习 Transfer Learning https://morvanzhou.github.io/tutorials/machine-learning/tensorflow/5-16-transfer-learning/\n",
      "32 近期更新 https://morvanzhou.github.io/recent-posts/\n"
     ]
    }
   ],
   "source": [
    "pool = mp.Pool(4)\n",
    "while len(unseen) != 0:\n",
    "    if len(seen) >= 20:\n",
    "        break\n",
    "        \n",
    "    print('Crawling...')\n",
    "    crawl_jobs = [pool.apply_async(crawl, args = (url,)) for url in unseen]\n",
    "    htmls = [j.get() for j in crawl_jobs]\n",
    "    \n",
    "    print('Parsing...')\n",
    "    parse_jobs = [pool.apply_async(parse, args = (html,)) for html in htmls]\n",
    "    results = [j.get() for j in parse_jobs]\n",
    "    \n",
    "    seen.update(unseen)\n",
    "    unseen.clear()\n",
    "    count = 1\n",
    "    \n",
    "    for title, page_url, url in results:\n",
    "        print(count, title, url)\n",
    "        count += 1\n",
    "        unseen.update(page_url - seen)"
   ]
  },
  {
   "cell_type": "code",
   "execution_count": null,
   "metadata": {},
   "outputs": [],
   "source": []
  }
 ],
 "metadata": {
  "kernelspec": {
   "display_name": "Python 3",
   "language": "python",
   "name": "python3"
  },
  "language_info": {
   "codemirror_mode": {
    "name": "ipython",
    "version": 3
   },
   "file_extension": ".py",
   "mimetype": "text/x-python",
   "name": "python",
   "nbconvert_exporter": "python",
   "pygments_lexer": "ipython3",
   "version": "3.6.4"
  }
 },
 "nbformat": 4,
 "nbformat_minor": 2
}
