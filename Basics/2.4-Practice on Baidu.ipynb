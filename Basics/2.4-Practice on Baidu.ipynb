{
 "cells": [
  {
   "cell_type": "code",
   "execution_count": 3,
   "metadata": {},
   "outputs": [],
   "source": [
    "from bs4 import BeautifulSoup\n",
    "from urllib.request import urlopen\n",
    "import re\n",
    "import random\n",
    "\n",
    "base_url = 'https://baike.baidu.com'\n",
    "his = [\"/item/%E7%BD%91%E7%BB%9C%E7%88%AC%E8%99%AB/5162711\"]"
   ]
  },
  {
   "cell_type": "code",
   "execution_count": 6,
   "metadata": {},
   "outputs": [
    {
     "name": "stdout",
     "output_type": "stream",
     "text": [
      "网络爬虫 url: /item/%E7%BD%91%E7%BB%9C%E7%88%AC%E8%99%AB/5162711\n"
     ]
    }
   ],
   "source": [
    "url = base_url + his[-1]\n",
    "\n",
    "html = urlopen(url).read().decode('utf-8')\n",
    "soup = BeautifulSoup(html, features = 'lxml')\n",
    "print(soup.find('h1').get_text(), 'url:', his[-1])"
   ]
  },
  {
   "cell_type": "code",
   "execution_count": 9,
   "metadata": {},
   "outputs": [
    {
     "name": "stdout",
     "output_type": "stream",
     "text": [
      "['/item/%E7%BD%91%E7%BB%9C%E7%88%AC%E8%99%AB/5162711', '/item/%E7%BD%91%E9%A1%B5%E6%8A%93%E5%8F%96']\n"
     ]
    }
   ],
   "source": [
    "sub_urls = soup.find_all('a', {'target' : '_blank',\n",
    "                               'href' : re.compile('/item/(%.{2})+$')})\n",
    "\n",
    "if len(sub_urls) != 0:\n",
    "    his.append(random.sample(sub_urls, 1)[0]['href'])\n",
    "else:\n",
    "    his.pop()\n",
    "print(his)\n"
   ]
  },
  {
   "cell_type": "code",
   "execution_count": 11,
   "metadata": {},
   "outputs": [
    {
     "name": "stdout",
     "output_type": "stream",
     "text": [
      "0 网络爬虫 url: /item/%E7%BD%91%E7%BB%9C%E7%88%AC%E8%99%AB/5162711\n",
      "1 搜索引擎 url: /item/%E6%90%9C%E7%B4%A2%E5%BC%95%E6%93%8E\n",
      "2 数据库 url: /item/%E6%95%B0%E6%8D%AE%E5%BA%93\n",
      "3 关系型数据库 url: /item/%E5%85%B3%E7%B3%BB%E5%9E%8B%E6%95%B0%E6%8D%AE%E5%BA%93\n",
      "4 关系数据库管理系统 url: /item/%E5%85%B3%E7%B3%BB%E6%95%B0%E6%8D%AE%E5%BA%93%E7%AE%A1%E7%90%86%E7%B3%BB%E7%BB%9F\n",
      "5 软件 url: /item/%E8%BD%AF%E4%BB%B6\n",
      "6 托马斯·库尔茨 url: /item/%E6%89%98%E9%A9%AC%E6%96%AF%C2%B7%E5%BA%93%E5%B0%94%E8%8C%A8\n",
      "7 科特布斯足球俱乐部 url: /item/%E7%A7%91%E7%89%B9%E5%B8%83%E6%96%AF\n",
      "8 科特布斯足球俱乐部 url: /item/%E7%A7%91%E7%89%B9%E5%B8%83%E6%96%AF\n",
      "9 托尔斯滕·马图施卡 url: /item/%E6%89%98%E5%B0%94%E6%96%AF%E6%BB%95%C2%B7%E9%A9%AC%E5%9B%BE%E6%96%BD%E5%8D%A1\n",
      "10 柏林联盟足球俱乐部 url: /item/%E6%9F%8F%E6%9E%97%E8%81%94%E7%9B%9F\n",
      "11 永加 url: /item/%E6%B0%B8%E5%8A%A0\n",
      "12 德国 url: /item/%E5%BE%B7%E5%9B%BD\n",
      "13 黑森州 url: /item/%E9%BB%91%E6%A3%AE%E5%B7%9E\n",
      "14 法兰克福国际机场 url: /item/%E6%B3%95%E5%85%B0%E5%85%8B%E7%A6%8F%E5%9B%BD%E9%99%85%E6%9C%BA%E5%9C%BA\n",
      "15 奥地利航空 url: /item/%E5%A5%A5%E5%9C%B0%E5%88%A9%E8%88%AA%E7%A9%BA\n",
      "16 合并 url: /item/%E5%90%88%E5%B9%B6\n",
      "17 顾炎武 url: /item/%E9%A1%BE%E7%82%8E%E6%AD%A6\n",
      "18 郡邑 url: /item/%E9%83%A1%E9%82%91\n",
      "19 恩泽 url: /item/%E6%81%A9%E6%B3%BD\n"
     ]
    }
   ],
   "source": [
    "his = [\"/item/%E7%BD%91%E7%BB%9C%E7%88%AC%E8%99%AB/5162711\"]\n",
    "\n",
    "for i in range(20):\n",
    "    url = base_url + his[-1]\n",
    "    html = urlopen(url).read().decode('utf-8')\n",
    "    soup = BeautifulSoup(html, features = 'lxml')\n",
    "    \n",
    "    print(i, soup.find('h1').get_text(), 'url:', his[-1])\n",
    "    \n",
    "    sub_urls = soup.find_all('a', {'target' : '_blank',\n",
    "                                   'href' : re.compile('/item/(%.{2})+$')})\n",
    "    if len(sub_urls) != 0:\n",
    "        his.append(random.sample(sub_urls, 1)[0]['href'])\n",
    "    else:\n",
    "        his.pop()"
   ]
  },
  {
   "cell_type": "code",
   "execution_count": null,
   "metadata": {},
   "outputs": [],
   "source": []
  }
 ],
 "metadata": {
  "kernelspec": {
   "display_name": "Python 3",
   "language": "python",
   "name": "python3"
  },
  "language_info": {
   "codemirror_mode": {
    "name": "ipython",
    "version": 3
   },
   "file_extension": ".py",
   "mimetype": "text/x-python",
   "name": "python",
   "nbconvert_exporter": "python",
   "pygments_lexer": "ipython3",
   "version": "3.6.4"
  }
 },
 "nbformat": 4,
 "nbformat_minor": 2
}
